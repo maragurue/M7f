{
 "cells": [
  {
   "cell_type": "code",
   "execution_count": 9,
   "metadata": {},
   "outputs": [],
   "source": [
    "# !pip install -r requirements.txt\n",
    "import numpy as np\n",
    "import matplotlib.pyplot as plt \n",
    "#!pip install -U ipykernel\n"
   ]
  },
  {
   "cell_type": "code",
   "execution_count": 10,
   "metadata": {},
   "outputs": [
    {
     "data": {
      "text/plain": [
       "360"
      ]
     },
     "execution_count": 10,
     "metadata": {},
     "output_type": "execute_result"
    }
   ],
   "source": [
    " alpha_list = np.linspace(0,2*np.pi,n_mp)#polar angle domain\n",
    " a_length=alpha_list.size\n",
    " a_length "
   ]
  },
  {
   "cell_type": "code",
   "execution_count": 11,
   "metadata": {},
   "outputs": [],
   "source": [
    "split=True\n",
    "n_dim = 2 #number of dims in domain \n",
    "n_mp = 360 #number of microplanes in interpolation \n",
    "n_steps = 1000 #solver steps \n",
    "#ratio=step of defining actual domain\n",
    "delta = np.identity(n_dim) #Kronecker δij\n",
    "epsilon_11=np.linspace(0,0.01,n_steps)#define evenly the lin space from 0 to 0.01 with n_steps is the n in  nijk\n",
    "#0.01 optional or otherwise raises DeprecationWarning when num cannot be safely interpreted as an integer\n",
    "epsilon_ij=np.zeros((len(epsilon_11,),n_dim,n_dim))#creation of the finite 2d space\n",
    "#question one-> since we use the ntr transormation and the space is also 2d there is no need for 3d?\n",
    "#epsilon_ijk=np.zeros((len(epsilon_11,),n_dim,n_dim,n_dim))\n",
    "epsilon_ij[:,0,0]=epsilon_11 #reshape,arrange,apprehend \n",
    "#epsilon_ij[:,0,0,0]=epsilon_11 for 3d\n",
    "epsilon_ijcalc=epsilon_ij[0,:,:]#slicing for the calculations in the loops \n"
   ]
  },
  {
   "cell_type": "markdown",
   "metadata": {},
   "source": []
  },
  {
   "cell_type": "code",
   "execution_count": 12,
   "metadata": {},
   "outputs": [
    {
     "ename": "ValueError",
     "evalue": "shapes (360,2) and (360,3) not aligned: 2 (dim 1) != 360 (dim 0)",
     "output_type": "error",
     "traceback": [
      "\u001b[1;31m---------------------------------------------------------------------------\u001b[0m",
      "\u001b[1;31mValueError\u001b[0m                                Traceback (most recent call last)",
      "Input \u001b[1;32mIn [12]\u001b[0m, in \u001b[0;36m<module>\u001b[1;34m\u001b[0m\n\u001b[1;32m----> 1\u001b[0m \u001b[38;5;28;01mclass\u001b[39;00m \u001b[38;5;21;01mIntegScheme\u001b[39;00m():\n\u001b[0;32m      2\u001b[0m     \u001b[38;5;66;03m#n_mp=360\u001b[39;00m\n\u001b[0;32m      3\u001b[0m     alpha_list \u001b[38;5;241m=\u001b[39m np\u001b[38;5;241m.\u001b[39mlinspace(\u001b[38;5;241m0\u001b[39m,\u001b[38;5;241m2\u001b[39m\u001b[38;5;241m*\u001b[39mnp\u001b[38;5;241m.\u001b[39mpi,n_mp)\u001b[38;5;66;03m#polar angle dom\u001b[39;00m\n\u001b[0;32m      4\u001b[0m     a_length\u001b[38;5;241m=\u001b[39malpha_list\u001b[38;5;241m.\u001b[39msize \n",
      "Input \u001b[1;32mIn [12]\u001b[0m, in \u001b[0;36mIntegScheme\u001b[1;34m()\u001b[0m\n\u001b[0;32m     23\u001b[0m \u001b[38;5;28;01mwhile\u001b[39;00m lengthm\u001b[38;5;241m==\u001b[39m\u001b[38;5;241m0\u001b[39m :\u001b[38;5;66;03m# DO WHILE (lengthm .lt. epsilon(lengthm)\u001b[39;00m\n\u001b[0;32m     24\u001b[0m \u001b[38;5;66;03m#calcdummy=MPN.shape\u001b[39;00m\n\u001b[0;32m     25\u001b[0m     randomvec\u001b[38;5;241m=\u001b[39mnp\u001b[38;5;241m.\u001b[39mones((a_length,n_dim\u001b[38;5;241m+\u001b[39m\u001b[38;5;241m1\u001b[39m))\u001b[38;5;66;03m#since its just for the 3d ?\u001b[39;00m\n\u001b[1;32m---> 26\u001b[0m     MPTM_nijm\u001b[38;5;241m=\u001b[39mrandomvec\u001b[38;5;241m-\u001b[39m\u001b[43mnp\u001b[49m\u001b[38;5;241;43m.\u001b[39;49m\u001b[43mdot\u001b[49m\u001b[43m(\u001b[49m\u001b[43mMPN\u001b[49m\u001b[43m,\u001b[49m\u001b[43mrandomvec\u001b[49m\u001b[43m)\u001b[49m\u001b[38;5;241m*\u001b[39mMPN\n\u001b[0;32m     27\u001b[0m     lengthm\u001b[38;5;241m=\u001b[39mnp\u001b[38;5;241m.\u001b[39msqrt(MPTM_nij,MPTM_nij)\n\u001b[0;32m     28\u001b[0m MPTM_nij\u001b[38;5;241m=\u001b[39mMPTM_nijm\u001b[38;5;241m/\u001b[39mlengthm\n",
      "File \u001b[1;32m<__array_function__ internals>:5\u001b[0m, in \u001b[0;36mdot\u001b[1;34m(*args, **kwargs)\u001b[0m\n",
      "\u001b[1;31mValueError\u001b[0m: shapes (360,2) and (360,3) not aligned: 2 (dim 1) != 360 (dim 0)"
     ]
    }
   ],
   "source": [
    "class IntegScheme():\n",
    "    #n_mp=360\n",
    "    alpha_list = np.linspace(0,2*np.pi,n_mp)#polar angle dom\n",
    "    a_length=alpha_list.size \n",
    "    MPN = np.array([[np.cos(alpha),np.sin(alpha)] for alpha in alpha_list ])\n",
    "    #alpha=float val?\n",
    "    #weights of each microplane\n",
    "    if n_dim==2:\n",
    "        MPW = np.ones(n_mp) / n_mp * 2 \n",
    "    elif n_dim==3:\n",
    "        MPW = np.ones(n_mp) / n_mp * 6\n",
    "    else: \n",
    "        print(\"ENTER NUMBER OF DIMS\")\n",
    "    MPM = np.zeros_like(MPN)\n",
    "    delta= np.identity(n_dim) #should be already set?\n",
    "    MPNN_nij = np.einsum('ni,nj -> nij', MPN,MPN)\n",
    "    MPTT_nijr = 0.5*(np.einsum('ni,jr -> nijr',MPN,delta)\n",
    "                    +np.einsum('nj,ir ->njir',MPN,delta)\n",
    "                    -2*np.einsum('ni,nj,nr ->nijr',MPN,MPN,MPN))\n",
    "    NPM=np.zeros_like(MPN)\n",
    "    #attempt to create MPTM and MPTL instead ij sumbfor card coords\n",
    "    lengthm=0.0\n",
    "    while lengthm==0 :# DO WHILE (lengthm .lt. epsilon(lengthm)\n",
    "    #calcdummy=MPN.shape\n",
    "        randomvec=np.ones((a_length,n_dim+1))#since its just for the 3d ?\n",
    "        MPTM_nijm=randomvec-np.dot(MPN,randomvec)*MPN\n",
    "        lengthm=np.sqrt(MPTM_nij,MPTM_nij)\n",
    "    MPTM_nij=MPTM_nijm/lengthm\n",
    "    MPTL_ij=np.cross(MPTM_nij,MPNN_nij)\n",
    "    #MPTM= np.einsum('nij,)\n",
    "    #MPTL=MPNN_nij-MPNV"
   ]
  },
  {
   "cell_type": "code",
   "execution_count": 13,
   "metadata": {},
   "outputs": [
    {
     "data": {
      "text/plain": [
       "10"
      ]
     },
     "execution_count": 13,
     "metadata": {},
     "output_type": "execute_result"
    }
   ],
   "source": [
    "e_e = 10\n",
    "np.max([e_e,0])"
   ]
  },
  {
   "cell_type": "code",
   "execution_count": 14,
   "metadata": {},
   "outputs": [
    {
     "ename": "SyntaxError",
     "evalue": "invalid syntax (3120272735.py, line 3)",
     "output_type": "error",
     "traceback": [
      "\u001b[1;36m  Input \u001b[1;32mIn [14]\u001b[1;36m\u001b[0m\n\u001b[1;33m    if split==True\u001b[0m\n\u001b[1;37m                  ^\u001b[0m\n\u001b[1;31mSyntaxError\u001b[0m\u001b[1;31m:\u001b[0m invalid syntax\n"
     ]
    }
   ],
   "source": [
    "#for the creation of m&l we need a 3dlinspace apriori with set e1 to get the projection ?\n",
    "#normal strain vector for each microplane\n",
    "if split==True\n",
    "    e_N = np.einsum('nij,...ij->...n',IntegScheme.MPNN_nij,epsilon_ij)\n",
    "    MPTT_ijr =  IntegScheme.MPTT_nijr \n",
    "    e_V_norm = np.einsum('...ij,...ij->...',delta, epsilon_ij)/3\n",
    "    e_V = np.einsum('ij,i->ij', np.ones_like(e_N), e_V_norm)\n",
    "    e_D = e_N - e_V\n",
    "    MPN = IntegScheme.MPN\n",
    "    e_T_r=np.einsum('nija,...ij->...na',MPTT_ijr,epsilon_ij)\n",
    "else :\n",
    "    e_N = np.einsum('nij,...ij->...n',IntegScheme.MPNN_nij,epsilon_ij)\n",
    "    MPTT_ijr =  IntegScheme.MPTT_nijr \n",
    "    e_T_r=np.einsum('nija,...ij->...na',MPTT_ijr,epsilon_ij)"
   ]
  },
  {
   "cell_type": "code",
   "execution_count": 15,
   "metadata": {},
   "outputs": [
    {
     "ename": "NameError",
     "evalue": "name 'Split' is not defined",
     "output_type": "error",
     "traceback": [
      "\u001b[1;31m---------------------------------------------------------------------------\u001b[0m",
      "\u001b[1;31mNameError\u001b[0m                                 Traceback (most recent call last)",
      "Input \u001b[1;32mIn [15]\u001b[0m, in \u001b[0;36m<module>\u001b[1;34m\u001b[0m\n\u001b[0;32m      1\u001b[0m get_ipython()\u001b[38;5;241m.\u001b[39mrun_line_magic(\u001b[38;5;124m'\u001b[39m\u001b[38;5;124mmatplotlib\u001b[39m\u001b[38;5;124m'\u001b[39m, \u001b[38;5;124m'\u001b[39m\u001b[38;5;124mwidget\u001b[39m\u001b[38;5;124m'\u001b[39m)\n\u001b[0;32m      2\u001b[0m cm \u001b[38;5;241m=\u001b[39m \u001b[38;5;241m1\u001b[39m \u001b[38;5;241m/\u001b[39m \u001b[38;5;241m2.54\u001b[39m  \u001b[38;5;66;03m# centimeters in inches\u001b[39;00m\n\u001b[1;32m----> 3\u001b[0m \u001b[38;5;28;01mif\u001b[39;00m \u001b[43mSplit\u001b[49m\u001b[38;5;241m==\u001b[39m\u001b[38;5;28;01mTrue\u001b[39;00m :\n\u001b[0;32m      4\u001b[0m     plt\u001b[38;5;241m.\u001b[39mfigure(figsize\u001b[38;5;241m=\u001b[39m(\u001b[38;5;241m20\u001b[39m\u001b[38;5;241m*\u001b[39mcm, \u001b[38;5;241m10\u001b[39m\u001b[38;5;241m*\u001b[39mcm))\n\u001b[0;32m      5\u001b[0m     rads \u001b[38;5;241m=\u001b[39m np\u001b[38;5;241m.\u001b[39marange(\u001b[38;5;241m0\u001b[39m, (\u001b[38;5;241m2\u001b[39m \u001b[38;5;241m*\u001b[39m np\u001b[38;5;241m.\u001b[39mpi), (\u001b[38;5;241m2\u001b[39m \u001b[38;5;241m*\u001b[39m np\u001b[38;5;241m.\u001b[39mpi) \u001b[38;5;241m/\u001b[39m n_mp)\n",
      "\u001b[1;31mNameError\u001b[0m: name 'Split' is not defined"
     ]
    }
   ],
   "source": [
    "%matplotlib widget\n",
    "cm = 1 / 2.54  # centimeters in inches\n",
    "if Split==True :\n",
    "    plt.figure(figsize=(20*cm, 10*cm))\n",
    "    rads = np.arange(0, (2 * np.pi), (2 * np.pi) / n_mp)\n",
    "    plt.subplot(131, projection='polar')#subplot like matlab sets a matrix of plots but without setting ann array just the xyp where p position \n",
    "    #plt.subplot(131 , projection='polar')\n",
    "    plt.plot(rads, e_V[-1, :], 'k')\n",
    "    plt.ylim(-1.5 * np.max(np.abs(e_V)),\n",
    "                    1.5 * np.max(np.abs(e_V)))\n",
    "    plt.title(r'$ε_V$', fontsize=25)\n",
    "    plt.tick_params(axis='both', which='major', labelsize=25)\n",
    "\n",
    "    plt.subplot(132, projection='polar')\n",
    "    plt.plot(rads, e_D[-1, :], 'k')\n",
    "    plt.ylim(-1.5 * np.max(np.abs(e_D)),\n",
    "                    1.5 * np.max(np.abs(e_D)))\n",
    "    plt.title(r'$\\varepsilon_D$', fontsize=25)\n",
    "\n",
    "    plt.tick_params(axis='both', which='major', labelsize=25)\n",
    "    plt.subplot(133, projection='polar')\n",
    "    plt.plot(rads, np.linalg.norm(e_T_r[-1, :],axis=-1), 'k')\n",
    "    plt.title(r'$ε_T$', fontsize=25)\n",
    "    plt.tick_params(axis='both', which='major', labelsize=25)\n",
    "else :\n",
    "    plt.figure(figsize=(20*cm, 10*cm))\n",
    "    rads = np.arange(0, (2 * np.pi), (2 * np.pi) / n_mp)\n",
    "    plt.subplot(121, projection='polar')#subplot like matlab sets a matrix of plots but without setting ann array just the xyp where p position \n",
    "    plt.plot(rads, e_N[-1, :], 'k')\n",
    "    plt.ylim(-1.5 * np.max(np.abs(e_N)),\n",
    "                    1.5 * np.max(np.abs(e_N)))\n",
    "    plt.title(r'$ε_N$', fontsize=25)\n",
    "    plt.tick_params(axis='both', which='major', labelsize=25)\n",
    "\n",
    "    plt.subplot(122, projection='polar')\n",
    "    plt.plot(rads, np.linalg.norm(e_T_r[-1, :],axis=-1), 'k')\n",
    "    plt.title(r'$ε_T$', fontsize=25)\n",
    "    plt.tick_params(axis='both', which='major', labelsize=25)\n",
    "plt.tight_layout()\n"
   ]
  },
  {
   "cell_type": "code",
   "execution_count": 16,
   "metadata": {},
   "outputs": [],
   "source": [
    "#ELASTICITY CALCS\n",
    "E_modulus =44800\n",
    "n_poisson = 0.18\n",
    "#issuewith if does not exit properly\n",
    "if n_poisson >=-1 and n_poisson<0.25 : \n",
    "    K=E_modulus/(2*(1+n_poisson))\n",
    "    G=E_modulus/(3*(1-2*n_poisson))\n",
    "else:\n",
    "    K_1=K\n",
    "    G_1=0\n",
    "    K_11 =K+K_1\n",
    "    G_11 =G+G_1\n",
    "    n_pseudopoisson=(3*K*(1+G/G_1)-2*G)/(6*K_*(1+G/G_1)+2*G)\n",
    "    n_poisson=n_pseudopoisson\n",
    "E_N = E_modulus/(1-2*n_poisson)\n",
    "E_T = E_N*((1-4*n_poisson)/(1+n_poisson))\n",
    "E_V= E_modulus/(1-2*n_poisson)\n",
    "xo=1#for double constraint\n",
    "E_D=5*E_modulus/((16+n_poisson)*(2+3*n_poisson))\n",
    "E_N = K/3\n",
    "from IPython.display import Latex"
   ]
  },
  {
   "cell_type": "code",
   "execution_count": 17,
   "metadata": {},
   "outputs": [
    {
     "ename": "ValueError",
     "evalue": "einstein sum subscripts string contains too many subscripts for operand 0",
     "output_type": "error",
     "traceback": [
      "\u001b[1;31m---------------------------------------------------------------------------\u001b[0m",
      "\u001b[1;31mValueError\u001b[0m                                Traceback (most recent call last)",
      "Input \u001b[1;32mIn [17]\u001b[0m, in \u001b[0;36m<module>\u001b[1;34m\u001b[0m\n\u001b[0;32m      1\u001b[0m tryout \u001b[38;5;241m=\u001b[39mnp\u001b[38;5;241m.\u001b[39marray([[\u001b[38;5;241m1\u001b[39m,\u001b[38;5;241m2\u001b[39m],[\u001b[38;5;241m3\u001b[39m,\u001b[38;5;241m4\u001b[39m]])\n\u001b[1;32m----> 2\u001b[0m someproduct\u001b[38;5;241m=\u001b[39m\u001b[43mnp\u001b[49m\u001b[38;5;241;43m.\u001b[39;49m\u001b[43meinsum\u001b[49m\u001b[43m(\u001b[49m\u001b[38;5;124;43m'\u001b[39;49m\u001b[38;5;124;43mnil,nlj -> nij\u001b[39;49m\u001b[38;5;124;43m'\u001b[39;49m\u001b[43m,\u001b[49m\u001b[43mdelta\u001b[49m\u001b[43m,\u001b[49m\u001b[43mtryout\u001b[49m\u001b[43m)\u001b[49m\n",
      "File \u001b[1;32m<__array_function__ internals>:5\u001b[0m, in \u001b[0;36meinsum\u001b[1;34m(*args, **kwargs)\u001b[0m\n",
      "File \u001b[1;32m~\\miniconda3\\envs\\bmcs_env\\lib\\site-packages\\numpy\\core\\einsumfunc.py:1350\u001b[0m, in \u001b[0;36meinsum\u001b[1;34m(out, optimize, *operands, **kwargs)\u001b[0m\n\u001b[0;32m   1348\u001b[0m     \u001b[38;5;28;01mif\u001b[39;00m specified_out:\n\u001b[0;32m   1349\u001b[0m         kwargs[\u001b[38;5;124m'\u001b[39m\u001b[38;5;124mout\u001b[39m\u001b[38;5;124m'\u001b[39m] \u001b[38;5;241m=\u001b[39m out\n\u001b[1;32m-> 1350\u001b[0m     \u001b[38;5;28;01mreturn\u001b[39;00m \u001b[43mc_einsum\u001b[49m\u001b[43m(\u001b[49m\u001b[38;5;241;43m*\u001b[39;49m\u001b[43moperands\u001b[49m\u001b[43m,\u001b[49m\u001b[43m \u001b[49m\u001b[38;5;241;43m*\u001b[39;49m\u001b[38;5;241;43m*\u001b[39;49m\u001b[43mkwargs\u001b[49m\u001b[43m)\u001b[49m\n\u001b[0;32m   1352\u001b[0m \u001b[38;5;66;03m# Check the kwargs to avoid a more cryptic error later, without having to\u001b[39;00m\n\u001b[0;32m   1353\u001b[0m \u001b[38;5;66;03m# repeat default values here\u001b[39;00m\n\u001b[0;32m   1354\u001b[0m valid_einsum_kwargs \u001b[38;5;241m=\u001b[39m [\u001b[38;5;124m'\u001b[39m\u001b[38;5;124mdtype\u001b[39m\u001b[38;5;124m'\u001b[39m, \u001b[38;5;124m'\u001b[39m\u001b[38;5;124morder\u001b[39m\u001b[38;5;124m'\u001b[39m, \u001b[38;5;124m'\u001b[39m\u001b[38;5;124mcasting\u001b[39m\u001b[38;5;124m'\u001b[39m]\n",
      "\u001b[1;31mValueError\u001b[0m: einstein sum subscripts string contains too many subscripts for operand 0"
     ]
    }
   ],
   "source": [
    "tryout =np.array([[1,2],[3,4]])\n",
    "someproduct=np.einsum('nil,nlj -> nij',delta,tryout) "
   ]
  },
  {
   "cell_type": "code",
   "execution_count": 18,
   "metadata": {},
   "outputs": [
    {
     "data": {
      "application/vnd.jupyter.widget-view+json": {
       "model_id": "b3bd46e5d826415b9560d45a17f71504",
       "version_major": 2,
       "version_minor": 0
      },
      "text/plain": [
       "Canvas(toolbar=Toolbar(toolitems=[('Home', 'Reset original view', 'home', 'home'), ('Back', 'Back to previous …"
      ]
     },
     "metadata": {},
     "output_type": "display_data"
    },
    {
     "ename": "NameError",
     "evalue": "name 's_V' is not defined",
     "output_type": "error",
     "traceback": [
      "\u001b[1;31m---------------------------------------------------------------------------\u001b[0m",
      "\u001b[1;31mNameError\u001b[0m                                 Traceback (most recent call last)",
      "Input \u001b[1;32mIn [18]\u001b[0m, in \u001b[0;36m<module>\u001b[1;34m\u001b[0m\n\u001b[0;32m      6\u001b[0m rads \u001b[38;5;241m=\u001b[39m np\u001b[38;5;241m.\u001b[39marange(\u001b[38;5;241m0\u001b[39m, (\u001b[38;5;241m2\u001b[39m \u001b[38;5;241m*\u001b[39m np\u001b[38;5;241m.\u001b[39mpi), (\u001b[38;5;241m2\u001b[39m \u001b[38;5;241m*\u001b[39m np\u001b[38;5;241m.\u001b[39mpi) \u001b[38;5;241m/\u001b[39m n_mp)\n\u001b[0;32m      7\u001b[0m plt\u001b[38;5;241m.\u001b[39msubplot(\u001b[38;5;241m131\u001b[39m, projection\u001b[38;5;241m=\u001b[39m\u001b[38;5;124m'\u001b[39m\u001b[38;5;124mpolar\u001b[39m\u001b[38;5;124m'\u001b[39m)\n\u001b[1;32m----> 8\u001b[0m plt\u001b[38;5;241m.\u001b[39mplot(rads, \u001b[43ms_V\u001b[49m[\u001b[38;5;241m-\u001b[39m\u001b[38;5;241m1\u001b[39m, :], \u001b[38;5;124m'\u001b[39m\u001b[38;5;124mk\u001b[39m\u001b[38;5;124m'\u001b[39m)\n\u001b[0;32m      9\u001b[0m plt\u001b[38;5;241m.\u001b[39mtitle(\u001b[38;5;124mr\u001b[39m\u001b[38;5;124m'\u001b[39m\u001b[38;5;124m$\u001b[39m\u001b[38;5;124m\\\u001b[39m\u001b[38;5;124msigma_V$\u001b[39m\u001b[38;5;124m'\u001b[39m, fontsize\u001b[38;5;241m=\u001b[39m\u001b[38;5;241m25\u001b[39m)\n\u001b[0;32m     10\u001b[0m plt\u001b[38;5;241m.\u001b[39mtick_params(axis\u001b[38;5;241m=\u001b[39m\u001b[38;5;124m'\u001b[39m\u001b[38;5;124mboth\u001b[39m\u001b[38;5;124m'\u001b[39m, which\u001b[38;5;241m=\u001b[39m\u001b[38;5;124m'\u001b[39m\u001b[38;5;124mmajor\u001b[39m\u001b[38;5;124m'\u001b[39m, labelsize\u001b[38;5;241m=\u001b[39m\u001b[38;5;241m25\u001b[39m)\n",
      "\u001b[1;31mNameError\u001b[0m: name 's_V' is not defined"
     ]
    }
   ],
   "source": [
    "%matplotlib widget\n",
    "cm = 1 / 2.54  # centimeters in inches\n",
    "microplane = 45 #46°\n",
    "if split==True :\n",
    "    plt.figure(figsize=(30*cm, 15*cm))\n",
    "    rads = np.arange(0, (2 * np.pi), (2 * np.pi) / n_mp)\n",
    "    plt.subplot(131, projection='polar')\n",
    "    plt.plot(rads, s_V[-1, :], 'k')\n",
    "    plt.title(r'$\\sigma_V$', fontsize=25)\n",
    "    plt.tick_params(axis='both', which='major', labelsize=25)\n",
    "\n",
    "    plt.subplot(132, projection='polar')\n",
    "    plt.plot(rads, s_D_predictor[-1, :], 'r')\n",
    "    plt.plot(rads, s_D[-1, :], 'k')\n",
    "    plt.title(r'$\\sigma_D$', fontsize=25)\n",
    "    plt.tick_params(axis='both', which='major', labelsize=25)\n",
    "\n",
    "    plt.subplot(133, projection='polar')\n",
    "    plt.plot(rads, np.linalg.norm(s_T_r[-1, :],axis=-1), 'k')\n",
    "    plt.title(r'$\\sigma_T$', fontsize=25)\n",
    "    plt.tick_params(axis='both', which='major', labelsize=25)\n",
    "else :\n",
    "    plt.figure(figsize=(30*cm, 15*cm))\n",
    "    rads = np.arange(0, (2 * np.pi), (2 * np.pi) / n_mp)\n",
    "    plt.subplot(121, projection='polar')\n",
    "    plt.plot(rads, s_N[-1, :], 'k')\n",
    "    plt.title(r'$\\sigma_N$', fontsize=25)\n",
    "    plt.tick_params(axis='both', which='major', labelsize=25)\n",
    "\n",
    "    plt.subplot(122, projection='polar')\n",
    "    plt.plot(rads, np.linalg.norm(s_T_r[-1, :],axis=-1), 'k')\n",
    "    plt.title(r'$\\sigma_T$', fontsize=25)\n",
    "    plt.tick_params(axis='both', which='major', labelsize=25)\n",
    "plt.tight_layout()"
   ]
  },
  {
   "cell_type": "code",
   "execution_count": null,
   "metadata": {},
   "outputs": [],
   "source": []
  },
  {
   "cell_type": "code",
   "execution_count": 19,
   "metadata": {},
   "outputs": [
    {
     "ename": "NameError",
     "evalue": "name 'IntegScheme' is not defined",
     "output_type": "error",
     "traceback": [
      "\u001b[1;31m---------------------------------------------------------------------------\u001b[0m",
      "\u001b[1;31mNameError\u001b[0m                                 Traceback (most recent call last)",
      "Input \u001b[1;32mIn [19]\u001b[0m, in \u001b[0;36m<module>\u001b[1;34m\u001b[0m\n\u001b[0;32m      1\u001b[0m sigma_ij \u001b[38;5;241m=\u001b[39m (\n\u001b[0;32m      2\u001b[0m                 np\u001b[38;5;241m.\u001b[39meinsum(\u001b[38;5;124m'\u001b[39m\u001b[38;5;124mn,...n,na,nb->...ab\u001b[39m\u001b[38;5;124m'\u001b[39m,\n\u001b[1;32m----> 3\u001b[0m                           \u001b[43mIntegScheme\u001b[49m\u001b[38;5;241m.\u001b[39mMPW, s_N, IntegScheme\u001b[38;5;241m.\u001b[39mMPN, IntegScheme\u001b[38;5;241m.\u001b[39mMPN) \u001b[38;5;241m+\u001b[39m\n\u001b[0;32m      4\u001b[0m                 \u001b[38;5;241m0.5\u001b[39m \u001b[38;5;241m*\u001b[39m (\n\u001b[0;32m      5\u001b[0m                         np\u001b[38;5;241m.\u001b[39meinsum(\u001b[38;5;124m'\u001b[39m\u001b[38;5;124mn,...nf,na,fb->...ab\u001b[39m\u001b[38;5;124m'\u001b[39m,\n\u001b[0;32m      6\u001b[0m                                   IntegScheme\u001b[38;5;241m.\u001b[39mMPW, s_T_r, IntegScheme\u001b[38;5;241m.\u001b[39mMPN, delta) \u001b[38;5;241m+\u001b[39m\n\u001b[0;32m      7\u001b[0m                         np\u001b[38;5;241m.\u001b[39meinsum(\u001b[38;5;124m'\u001b[39m\u001b[38;5;124mn,...nf,nb,fa->...ab\u001b[39m\u001b[38;5;124m'\u001b[39m,\n\u001b[0;32m      8\u001b[0m                                   IntegScheme\u001b[38;5;241m.\u001b[39mMPW, s_T_r, IntegScheme\u001b[38;5;241m.\u001b[39mMPN, delta)\n\u001b[0;32m      9\u001b[0m                 )\n\u001b[0;32m     10\u001b[0m         )\n\u001b[0;32m     12\u001b[0m \u001b[38;5;66;03m#with split \u001b[39;00m\n\u001b[0;32m     13\u001b[0m sigma_ij\u001b[38;5;241m=\u001b[39m (np\u001b[38;5;241m.\u001b[39meinsum(\u001b[38;5;124m'\u001b[39m\u001b[38;5;124mv,....v,ij\u001b[39m\u001b[38;5;124m'\u001b[39m,s_V,delta)\u001b[38;5;241m+\u001b[39mnp\u001b[38;5;241m.\u001b[39meinsum(\u001b[38;5;124m'\u001b[39m\u001b[38;5;124md,...d,na,nb->...ab\u001b[39m\u001b[38;5;124m'\u001b[39m,\n\u001b[0;32m     14\u001b[0m                           IntegScheme\u001b[38;5;241m.\u001b[39mMPW, s_D, IntegScheme\u001b[38;5;241m.\u001b[39mMPN, IntegScheme\u001b[38;5;241m.\u001b[39mMPN) \u001b[38;5;241m+\u001b[39m\n\u001b[0;32m     15\u001b[0m                 \u001b[38;5;241m0.5\u001b[39m \u001b[38;5;241m*\u001b[39m (\n\u001b[1;32m   (...)\u001b[0m\n\u001b[0;32m     20\u001b[0m                 )\n\u001b[0;32m     21\u001b[0m         )\n",
      "\u001b[1;31mNameError\u001b[0m: name 'IntegScheme' is not defined"
     ]
    }
   ],
   "source": [
    "sigma_ij = (\n",
    "                np.einsum('n,...n,na,nb->...ab',\n",
    "                          IntegScheme.MPW, s_N, IntegScheme.MPN, IntegScheme.MPN) +\n",
    "                0.5 * (\n",
    "                        np.einsum('n,...nf,na,fb->...ab',\n",
    "                                  IntegScheme.MPW, s_T_r, IntegScheme.MPN, delta) +\n",
    "                        np.einsum('n,...nf,nb,fa->...ab',\n",
    "                                  IntegScheme.MPW, s_T_r, IntegScheme.MPN, delta)\n",
    "                )\n",
    "        )\n",
    "\n",
    "#with split \n",
    "sigma_ij= (np.einsum('v,....v,ij',s_V,delta)+np.einsum('d,...d,na,nb->...ab',\n",
    "                          IntegScheme.MPW, s_D, IntegScheme.MPN, IntegScheme.MPN) +\n",
    "                0.5 * (\n",
    "                        np.einsum('n,...nf,na,fb->...ab',\n",
    "                                  IntegScheme.MPW, s_T_r, IntegScheme.MPN, delta) +\n",
    "                        np.einsum('n,...nf,nb,fa->...ab',\n",
    "                                  IntegScheme.MPW, s_T_r, IntegScheme.MPN, delta)\n",
    "                )\n",
    "        )\n"
   ]
  },
  {
   "cell_type": "code",
   "execution_count": 18,
   "metadata": {},
   "outputs": [],
   "source": []
  },
  {
   "cell_type": "code",
   "execution_count": null,
   "metadata": {},
   "outputs": [],
   "source": [
    "#ALG0\n",
    "zita=0\n",
    "s_N = E_N * e_N\n",
    "s_V = E_V * e_V\n",
    "s_D = E_D * e_D\n",
    "s_T_r = E_T * e_T_r\n",
    "i=0          #counter\n",
    "k_1=\n",
    "k_2=\n",
    "k_3=\n",
    "k_4=\n",
    "k_5=\n",
    "f_c0dot=\n",
    "f_cdot=\n",
    "gama_0=\n",
    "bita_1=\n",
    "bita_2=            #s_d bound \n",
    "bita_3=            #s_d bound\n",
    "fc0= 15.08         #MPa Reference compressive strength\n",
    "c_1= 8.9*10**-2    # Controls the uniaxial tensile strength\n",
    "c_2= 17.6*10**-2   # Controls the roundness of the peak in uniaxial tension\n",
    "c_3= 4             # Controls the slope of the postpeak in uniaxial tension\n",
    "c_4= 50            # Controls the slope of the postpeak tail in uniaxial compression\n",
    "c_5= 3500          # Controls the volumetric expansion under compression\n",
    "c_6= 20            # Controls the roundness of the peak in volumetric expansion under compression\n",
    "c_7= 1             # Controls the slope of the initial postpeak in uniaxial compression\n",
    "c_8= 8             # Controls the peak strength in uniaxial compression\n",
    "c_9= 1.2*10**-2    # Controls the peak roundness in uniaxial compression\n",
    "c_10= 0.33         # Controls the effective friction coefficient\n",
    "c_11= 0.5          # Initial cohesion in frictional response\n",
    "c_12= 2.36         # Controls the change of cohesion with tensile volumetric strains\n",
    "c_13= 4500         # Controls the unloading slope in tension\n",
    "c_14= 300          # Controls the unloading slope at low hydrostatic compression\n",
    "c_15= 4000         # Controls the transition from unloading slope at high confinement to that at low confinement\n",
    "c_16= 60           # Controls the unloading slope at high hydrostatic compression\n",
    "c_17= 1.4          # Controls the tensile strength\n",
    "c_18= 1.6*10**-3   # Controls the tensile cracking under compression\n",
    "c_19= 1000         # Controls the tensile softening rate induced by compression\n",
    "c_20= 1.8          # Controls the volumetric-deviatoric coupling at high pressures\n",
    "c_21=250\n",
    "E_D0=E_D\n",
    "gama_0=f_c0dot/E_D0+f_cdot/E_D\n",
    "\n",
    "e_0Nplus=np.zeros(n_mp)\n",
    "e_0Nminus=np.zeros(n_mp)\n",
    "#loop over each time step\n",
    "for j in range(n_steps): \n",
    "    epsilon_I = np.linalg.eig(epsilon_ij[j-1])[0,0]\n",
    "    epsilon_II = np.linalg.eig(epsilon_ij[j-1])[1,0]\n",
    "    #loop over each microplane\n",
    "    for i in range(n_mp):\n",
    "        # predictor for compressive deviatoric stress\n",
    "        s_D[j][i] = E_D * e_D[j][i]\n",
    "        # obtaining deviatoric compressive strain boundary (threshold)\n",
    "        gama_1=np.exp(gama_0)*np.tanh(c_9*(-e_V[j][i])/k_1)\n",
    "        bita_2=c_5*gama_1+c_7\n",
    "        bita_3=c_6*gama_1+c_8\n",
    "        s_D_bound=E_D*k_1*bita_3/(1+6*((-e_D[j][i])/k_1*bita_2)**2)\n",
    "        # checking if we are crossing the boundary for time step j and microplane i\n",
    "        if e_N[j][i] < 0:\n",
    "            # print(\"comp.\")\n",
    "            # if we cross boundary, correct microplane i stress\n",
    "            if s_D[j][i] < s_D_bound:\n",
    "                # corrector deviatoric stress\n",
    "                s_D[j][i] = s_D_bound\n",
    "        # further boundary\n",
    "        # are we in tension?\n",
    "        if e_N[j][i] > 0:\n",
    "            if e_N[j][i] > e_0Nplus[i]:\n",
    "                e_0Nplus[i] = e_N[j][i]            \n",
    "        # are we in compression?    \n",
    "        if e_N[j][i] < 0: \n",
    "            if e_N[j][i] < e_0Nminus[i]:\n",
    "                e_0Nminus[i] = e_N[j][i]\n",
    "##########################################################\n",
    "1\n",
    "##########################################################\n",
    "de_v=np.einsum('ij,ij',de_ij)/n_dim\n",
    "de_ij= np.eye(epsilon_11,n_dim)#for sure wrong just to continue with the script \n",
    "de_n=np.einsum('nij,ij,->n',IntegScheme.MPNN_nij,de_ij)\n",
    "de_m=\n",
    "de_l=\n",
    "i=-1\n",
    "j=-1\n",
    "###########################################################\n",
    "2\n",
    "###########################################################\n",
    "y\n",
    "de_v=np.einsum('ij,ij',de_ij)/n_dim\n",
    "e_V=e_V+de_v\n",
    "e_elastic=(s_V/E_N)\n",
    "#principal stresses class!2 and 3d just from a mech book\n",
    "s=\n",
    "###########################################################\n",
    "3\n",
    "###########################################################\n",
    "a=(k_5/(1+min(-s_V,c_21)/E_N))*((emin-emax)/k_1)**(c_20)+k_4\n",
    "s_V_bound=-E_V*k_1*k_3*np.exp(-e_V/(k_1*a))\n",
    "###########################################################\n",
    "4\n",
    "###########################################################\n",
    "de_d=de_n-de_v\n",
    "e_D0=e_N-e_V0\n",
    "e_D=e_D0+de_d\n",
    "gama_1=np.exp(gama_0)*np.tanh*(c_9*(-e_V)/k_1)\n",
    "bita_1=-c_1+c_17*np.exp(-c_19*(-s_V0-c_18)/E_N0)\n",
    "bita_2=c_5*gama_1+c_7\n",
    "bita_3=c_6*gama_1+c_8\n",
    "s_D_bound=E_D*k_1*bita_3/(1+6((-e_D)/k_1*bita_2)**2)\n",
    "###########################################################\n",
    "e_N[i,j]=e_D+e_V\n",
    "s_N = E_N * e_N\n",
    "s_V = E_V * e_V\n",
    "s_D = E_D * e_D\n",
    "s_T_r = E_T * e_T_r\n",
    "e_0Nplus=np.abs(np.max(e_N))\n",
    "e_0Nminus=np.abs(np.min(e_N))\n",
    "E_N0=e/(1-2*n_poisson)\n",
    "if s_N0>=0:      #np.zero_like(s_N)\n",
    "    E_N=E_N0*np.exp(-c_13*e_0Nplus)*(1-0.1*zita**2)**-1\n",
    "elif s_N0>E_N0*e_N and s_N0*de_n<0:\n",
    "    E_N=E_N0\n",
    "else :\n",
    "    E_N=E_N0*(np.exp(-c_14*np.abs(e_0Nminus)/(1+c_15*e_elastic))+\n",
    "       c_16*e_elastic)\n",
    "s_N_el=s_N0+E_N*de_n\n",
    "#############################################################\n",
    "if s_N_bound>0:\n",
    "    s_N_bound=E_modulus*k_1*bita_1*np.exp(-(e_N-bita_1*c_2*k_1)/(-c_4*e_elastic+k_1*c_3))\n",
    "s_N=np.max(np.min(s_N_elastic,s_N_bound),s_V_bound+s_D_bound)\n",
    "if s_N>=s_N_bound:\n",
    "\n"
   ]
  },
  {
   "cell_type": "markdown",
   "metadata": {},
   "source": []
  }
 ],
 "metadata": {
  "kernelspec": {
   "display_name": "Python 3 (ipykernel)",
   "language": "python",
   "name": "python3"
  },
  "language_info": {
   "codemirror_mode": {
    "name": "ipython",
    "version": 3
   },
   "file_extension": ".py",
   "mimetype": "text/x-python",
   "name": "python",
   "nbconvert_exporter": "python",
   "pygments_lexer": "ipython3",
   "version": "3.8.12"
  },
  "vscode": {
   "interpreter": {
    "hash": "e4f160edfcca2be4a49211366b8ea9692c849b376550e8da4c583699e0d3e7ea"
   }
  }
 },
 "nbformat": 4,
 "nbformat_minor": 4
}
